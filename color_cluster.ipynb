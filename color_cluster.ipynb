{
 "cells": [
  {
   "cell_type": "code",
   "execution_count": 9,
   "id": "2c29d521",
   "metadata": {},
   "outputs": [],
   "source": [
    "import cv2\t\n",
    "import\tnumpy as np\n",
    "import matplotlib.pyplot as plt\n",
    "import os"
   ]
  },
  {
   "cell_type": "code",
   "execution_count": null,
   "id": "b756adb0",
   "metadata": {},
   "outputs": [],
   "source": [
    "def extract_color_signature(img_path):\n",
    "    img = cv2.imread(img_path)\n",
    "    img = cv2.cvtColor(img, cv2.COLOR_BGR2Lab)\n",
    "    pixels = np.float32(img.reshape(-1, 3))\n",
    "\n",
    "    #Werte normalisieren\n",
    "    pixels[:, 0] /= 100.0  \n",
    "    pixels[:, 1:] /= 255.0  \n",
    "    pixels[:, 1:] += 0.5    \n",
    "    # 8 cluster\n",
    "    k=8\n",
    "    # Abbruchkritereien (komische opencv kacke, \"+\"\" weil beide kriterien gelten, 100 Durchläufe, 0.1 epsilon)\n",
    "    criteria = (cv2.TERM_CRITERIA_EPS + cv2.TERM_CRITERIA_MAX_ITER, 100, 0.1)\n",
    "    # 10 Durchläufe mit anderen Zentren, keine Labels, k=8 cluster, Abbruchkriterien von oben, zufällige center\n",
    "    _, labels, centers = cv2.kmeans(pixels, k, None, criteria, 10, cv2.KMEANS_RANDOM_CENTERS)\n",
    "\n",
    "    # Gewichte berechnen\n",
    "    unique_labels, counts = np.unique(labels, return_counts=True)\n",
    "    weights = np.zeros(k)\n",
    "    for i, label in enumerate(unique_labels):\n",
    "        weights[label] = counts[i]\n",
    "    weights = weights / np.sum(weights)  # Normalisierung\n",
    "    \n",
    "    # Werte entnormalisieren\n",
    "    centers[:, 0] *= 100.0  \n",
    "    centers[:, 1:] -= 0.5\n",
    "    centers[:, 1:] *= 255.0 \n",
    "    \n",
    "    #zurück in BGR\n",
    "    bgr_centers = []\n",
    "    for center in centers:\n",
    "        # Reshape für cv2.cvtColor\n",
    "        lab_color = center.reshape(1, 1, 3)\n",
    "        bgr_color = cv2.cvtColor(lab_color.astype(np.uint8), cv2.COLOR_Lab2BGR)\n",
    "        bgr_centers.append(bgr_color[0, 0])\n",
    "    \n",
    "    return np.array(bgr_centers), weights\n",
    "\n"
   ]
  },
  {
   "cell_type": "code",
   "execution_count": 11,
   "id": "5b96128b",
   "metadata": {},
   "outputs": [],
   "source": [
    "\n",
    "def visualize_color_signature(centers, weights, figsize=(10, 4)):\n",
    "    \"\"\"\n",
    "    Visualisiert eine Farbsignatur.\n",
    "    \n",
    "    Parameters:\n",
    "    -----------\n",
    "    centers : numpy.ndarray\n",
    "        Die k repräsentativen Farben\n",
    "    weights : numpy.ndarray\n",
    "        Die relative Häufigkeit jeder Farbe\n",
    "    \"\"\"\n",
    "    # Sortiere Farben nach Gewicht (absteigend)\n",
    "    sorted_indices = np.argsort(weights)[::-1]\n",
    "    sorted_centers = centers[sorted_indices]\n",
    "    sorted_weights = weights[sorted_indices]\n",
    "    \n",
    "    # Erstelle Farbbalken\n",
    "    plt.figure(figsize=figsize)\n",
    "    \n",
    "    # Jede Farbe als Balken darstellen\n",
    "    for i, (center, weight) in enumerate(zip(sorted_centers, sorted_weights)):\n",
    "        # Konvertiere BGR zu RGB für matplotlib\n",
    "        rgb_color = center[::-1] / 255.0  # BGR zu RGB und auf [0, 1] normalisieren\n",
    "        plt.bar(i, weight, color=rgb_color, width=0.8)\n",
    "        \n",
    "        # Prozentsatz anzeigen\n",
    "        plt.text(i, weight + 0.01, f\"{weight*100:.1f}%\", \n",
    "                 ha='center', va='bottom', fontsize=9)\n",
    "    \n",
    "    plt.xlabel('Farbcluster')\n",
    "    plt.ylabel('Relative Häufigkeit')\n",
    "    plt.title('Farbsignatur des Bildes')\n",
    "    plt.xticks([])  # x-Achse ohne Zahlen\n",
    "    plt.ylim(0, max(weights) * 1.2)  # Ein wenig Platz über dem höchsten Balken\n",
    "    plt.show()"
   ]
  },
  {
   "cell_type": "code",
   "execution_count": 14,
   "id": "24eceab8",
   "metadata": {},
   "outputs": [
    {
     "data": {
      "image/png": "[encoded data removed]",
      "text/plain": [
       "<Figure size 1000x400 with 1 Axes>"
      ]
     },
     "metadata": {},
     "output_type": "display_data"
    },
    {
     "data": {
      "text/plain": [
       "array([[ 10,  11,   7],\n",
       "       [167, 155, 151],\n",
       "       [244, 238, 200],\n",
       "       [  9,  59, 213],\n",
       "       [223, 198, 169],\n",
       "       [ 98,  88,  79],\n",
       "       [ 61,  54,  48],\n",
       "       [136, 120, 101]], dtype=uint8)"
      ]
     },
     "execution_count": 14,
     "metadata": {},
     "output_type": "execute_result"
    }
   ],
   "source": [
    "os.getcwd()\n",
    "image = \"my_test_file.jpg\"\n",
    "filepath = os.path.join(os.getcwd(), image)\n",
    "centers, weights = extract_color_signature(filepath)\n",
    "visualize_color_signature(centers, weights)\n",
    "centers"
   ]
  }
 ],
 "metadata": {
  "kernelspec": {
   "display_name": "BigData",
   "language": "python",
   "name": "python3"
  },
  "language_info": {
   "codemirror_mode": {
    "name": "ipython",
    "version": 3
   },
   "file_extension": ".py",
   "mimetype": "text/x-python",
   "name": "python",
   "nbconvert_exporter": "python",
   "pygments_lexer": "ipython3",
   "version": "3.12.1"
  }
 },
 "nbformat": 4,
 "nbformat_minor": 5
}
